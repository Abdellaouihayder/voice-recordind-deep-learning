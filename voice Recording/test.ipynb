{
 "cells": [
  {
   "cell_type": "code",
   "execution_count": 1,
   "id": "d9f39475",
   "metadata": {},
   "outputs": [],
   "source": [
    "from gtts import gTTS"
   ]
  },
  {
   "cell_type": "code",
   "execution_count": 2,
   "id": "d7ecb08d",
   "metadata": {},
   "outputs": [],
   "source": [
    "import os\n"
   ]
  },
  {
   "cell_type": "code",
   "execution_count": 3,
   "id": "7dab789a",
   "metadata": {},
   "outputs": [],
   "source": [
    "language = 'en'\n"
   ]
  },
  {
   "cell_type": "code",
   "execution_count": 4,
   "id": "c9d98f1d",
   "metadata": {},
   "outputs": [],
   "source": [
    "mytext='Good Morning souhir !How are you?'\n"
   ]
  },
  {
   "cell_type": "code",
   "execution_count": 5,
   "id": "a087d455",
   "metadata": {},
   "outputs": [],
   "source": [
    "myobj = gTTS(text=mytext, lang=language, slow=False) "
   ]
  },
  {
   "cell_type": "code",
   "execution_count": 6,
   "id": "f7587237",
   "metadata": {},
   "outputs": [],
   "source": [
    "myobj.save(\"8.mp3\")\n"
   ]
  },
  {
   "cell_type": "code",
   "execution_count": 7,
   "id": "6bffc796",
   "metadata": {},
   "outputs": [
    {
     "data": {
      "text/plain": [
       "0"
      ]
     },
     "execution_count": 7,
     "metadata": {},
     "output_type": "execute_result"
    }
   ],
   "source": [
    "os.system(\"8.mp3\")"
   ]
  },
  {
   "cell_type": "code",
   "execution_count": null,
   "id": "4338576f",
   "metadata": {},
   "outputs": [],
   "source": []
  },
  {
   "cell_type": "code",
   "execution_count": null,
   "id": "0b799cfb",
   "metadata": {},
   "outputs": [],
   "source": []
  }
 ],
 "metadata": {
  "kernelspec": {
   "display_name": "Python 3 (ipykernel)",
   "language": "python",
   "name": "python3"
  },
  "language_info": {
   "codemirror_mode": {
    "name": "ipython",
    "version": 3
   },
   "file_extension": ".py",
   "mimetype": "text/x-python",
   "name": "python",
   "nbconvert_exporter": "python",
   "pygments_lexer": "ipython3",
   "version": "3.11.5"
  }
 },
 "nbformat": 4,
 "nbformat_minor": 5
}
